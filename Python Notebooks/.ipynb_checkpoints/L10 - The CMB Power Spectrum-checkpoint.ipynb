{
 "cells": [
  {
   "cell_type": "markdown",
   "metadata": {},
   "source": [
    "# L10 - The CMB Power Spectrum\n",
    "\n",
    "This notebook uses the CAMB software to simulate how the SMB power spectrum would look given different cosmological parameters.\n",
    "\n",
    "If you want to use it yourself on your own machine, you'll need to install the CAMB python software. It requires the gfortran compiler, so you'd have to install that first. Once you've installed the gfortran compiler, CAMB can be easily installed using pip3:\n",
    "\n",
    "``` pip3 install camb --user ```"
   ]
  },
  {
   "cell_type": "code",
   "execution_count": 1,
   "metadata": {},
   "outputs": [
    {
     "name": "stdout",
     "output_type": "stream",
     "text": [
      "CAMB successfully imported; version: 0.1.6.1 \n"
     ]
    }
   ],
   "source": [
    "%matplotlib inline\n",
    "import sys, platform, os\n",
    "from matplotlib import pyplot as plt\n",
    "import numpy as np\n",
    "import camb\n",
    "from camb import model, initialpower\n",
    "#Check that CAMB has been imported:\n",
    "print('CAMB successfully imported; version: %s '%camb.__version__)"
   ]
  },
  {
   "cell_type": "code",
   "execution_count": 2,
   "metadata": {},
   "outputs": [
    {
     "data": {
      "image/png": "[encoded data removed]",
      "text/plain": [
       "<matplotlib.figure.Figure at 0x10c0fc4e0>"
      ]
     },
     "metadata": {},
     "output_type": "display_data"
    }
   ],
   "source": [
    "#Generate a class to hold some parameters:\n",
    "bmpars = camb.CAMBparams()\n",
    "\n",
    "'''Define the cosmological parameters. In CAMB, input parameters are given in physical densities,\n",
    "rather than density parameters we're familiar with from the lectures. Converting between the two is\n",
    "easy, however. Physical density is equal to (density parameter)*(h^2), where h = H_0/100.\n",
    "'''\n",
    "h = 0.68\n",
    "h2 = h**2\n",
    "bmpars.set_cosmology(H0=h*100., ombh2=0.05*h2, omch2=0.262*h2, omk=0)\n",
    "#Don't worry about the next line, it's just needed to get CAMB to work:\n",
    "bmpars.InitPower.set_params(ns=0.965, r=0)\n",
    "\n",
    "#Now generate our model universe:\n",
    "bmresults = camb.get_results(bmpars)\n",
    "\n",
    "#Extract the CMB power spectrum from our model universe:\n",
    "bmpowers = bmresults.get_cmb_power_spectra(bmpars, CMB_unit='muK')\n",
    "bmCL=bmpowers['unlensed_scalar']\n",
    "\n",
    "#Generate a set of ls (i.e., spherical harmonic coefficients) to plot against:\n",
    "bmls = np.arange(bmCL.shape[0])\n",
    "\n",
    "#Now plot our model:\n",
    "plt.figure(1, figsize=[7,5])\n",
    "plt.axis([8,2000,0,1.1])\n",
    "plt.xticks(fontsize=20)\n",
    "plt.yticks(fontsize=20)\n",
    "plt.xlabel('Spherical harmonic number', fontsize=20)\n",
    "plt.ylabel('Relative power', fontsize=20)\n",
    "plt.text(1e3,0.97,'(a)', fontsize=20)\n",
    "plt.xscale('log')\n",
    "plt.plot(bmls, bmCL[:,0]/np.max(bmCL[:,0]), '--', color='gray', linewidth=5, label='Benchmark')\n",
    "\n",
    "#Generate a new model to compare to The Benchmark Model\n",
    "pars = camb.CAMBparams()\n",
    "pars.set_cosmology(H0=h*100., ombh2=0.05*h2, omch2=0.262*h2, omk=0.3)\n",
    "pars.InitPower.set_params(ns=0.965, r=0)\n",
    "results = camb.get_results(pars)\n",
    "powers =results.get_cmb_power_spectra(pars, CMB_unit='muK')\n",
    "CL=powers['unlensed_scalar']\n",
    "ls = np.arange(CL.shape[0])\n",
    "\n",
    "plt.plot(ls, CL[:,0]/np.max(CL[:,0]), color='k', linewidth=4, label='Model')\n",
    "\n",
    "plt.legend(fontsize=15)\n",
    "\n",
    "plt.savefig('Model1.pdf', bbox_inches=\"tight\")\n",
    "\n",
    "#Now plot our model:\n",
    "plt.figure(1, figsize=[7,5])\n",
    "plt.axis([8,2000,0,1.1])\n",
    "plt.xticks(fontsize=20)\n",
    "plt.yticks(fontsize=20)\n",
    "plt.xlabel('Spherical harmonic number', fontsize=20)\n",
    "plt.text(1e3,0.97,'(b)', fontsize=20)\n",
    "plt.xscale('log')\n",
    "plt.plot(bmls, bmCL[:,0]/np.max(bmCL[:,0]), '--', color='gray', linewidth=5)\n",
    "\n",
    "#Generate a new model to compare to The Benchmark Model\n",
    "pars.set_cosmology(H0=h*100., ombh2=0.1*h2, omch2=0.262*h2, omk=0)\n",
    "pars.InitPower.set_params(ns=0.965, r=0)\n",
    "results = camb.get_results(pars)\n",
    "powers =results.get_cmb_power_spectra(pars, CMB_unit='muK')\n",
    "CL=powers['unlensed_scalar']\n",
    "ls = np.arange(CL.shape[0])\n",
    "\n",
    "plt.plot(ls, CL[:,0]/np.max(CL[:,0]), color='k', linewidth=4)\n",
    "\n",
    "plt.savefig('Model2.pdf', bbox_inches=\"tight\")\n",
    "\n",
    "#Now plot our model:\n",
    "plt.figure(1, figsize=[7,5])\n",
    "plt.axis([8,2000,0,1.1])\n",
    "plt.xticks(fontsize=20)\n",
    "plt.yticks(fontsize=20)\n",
    "plt.xlabel('Spherical harmonic number', fontsize=20)\n",
    "plt.text(1e3,0.97,'(c)', fontsize=20)\n",
    "plt.xscale('log')\n",
    "plt.plot(bmls, bmCL[:,0]/np.max(bmCL[:,0]), '--', color='gray', linewidth=5)\n",
    "\n",
    "#Generate a new model to compare to The Benchmark Model\n",
    "pars.set_cosmology(H0=h*100., ombh2=0.05*h2, omch2=0.662*h2, omk=0)\n",
    "pars.InitPower.set_params(ns=0.965, r=0)\n",
    "results = camb.get_results(pars)\n",
    "powers =results.get_cmb_power_spectra(pars, CMB_unit='muK')\n",
    "CL=powers['unlensed_scalar']\n",
    "ls = np.arange(CL.shape[0])\n",
    "\n",
    "plt.plot(ls, CL[:,0]/np.max(CL[:,0]), color='k', linewidth=4)\n",
    "plt.savefig('Models3.pdf', bbox_inches=\"tight\")"
   ]
  },
  {
   "cell_type": "code",
   "execution_count": null,
   "metadata": {},
   "outputs": [],
   "source": []
  },
  {
   "cell_type": "code",
   "execution_count": null,
   "metadata": {},
   "outputs": [],
   "source": []
  }
 ],
 "metadata": {
  "kernelspec": {
   "display_name": "Python 3",
   "language": "python",
   "name": "python3"
  },
  "language_info": {
   "codemirror_mode": {
    "name": "ipython",
    "version": 3
   },
   "file_extension": ".py",
   "mimetype": "text/x-python",
   "name": "python",
   "nbconvert_exporter": "python",
   "pygments_lexer": "ipython3",
   "version": "3.6.2"
  }
 },
 "nbformat": 4,
 "nbformat_minor": 2
}
